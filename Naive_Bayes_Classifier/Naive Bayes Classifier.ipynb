{
 "cells": [
  {
   "cell_type": "code",
   "execution_count": 1,
   "id": "215eb452",
   "metadata": {},
   "outputs": [],
   "source": [
    "import numpy as np\n",
    "import pandas as pd"
   ]
  },
  {
   "cell_type": "code",
   "execution_count": 2,
   "id": "012898e6",
   "metadata": {},
   "outputs": [],
   "source": [
    "# Load the data\n",
    "X = np.genfromtxt(\"/Users/ideakadikoy/Desktop/hw01_data_points.csv\", delimiter=\",\", dtype=str)\n",
    "y = np.genfromtxt(\"/Users/ideakadikoy/Desktop/hw01_class_labels.csv\", delimiter=\",\", dtype=int)"
   ]
  },
  {
   "cell_type": "code",
   "execution_count": 3,
   "id": "b354624f",
   "metadata": {},
   "outputs": [
    {
     "name": "stdout",
     "output_type": "stream",
     "text": [
      "(50000, 7)\n",
      "(50000,)\n",
      "(43925, 7)\n",
      "(43925,)\n"
     ]
    }
   ],
   "source": [
    "# STEP 3\n",
    "# first 50000 data points should be included to train\n",
    "# remaining 43925 data points should be included to test\n",
    "# should return X_train, y_train, X_test, and y_test\n",
    "\n",
    "    # your implementation starts below\n",
    "# Split the data into train and test sets\n",
    "def train_test_split(X, y):\n",
    "    X_train = X[:50000]\n",
    "    y_train = y[:50000]\n",
    "    X_test = X[50000:]\n",
    "    y_test = y[50000:]\n",
    "    return X_train, y_train, X_test, y_test\n",
    "\n",
    "X_train, y_train, X_test, y_test = train_test_split(X, y)\n",
    "  \n",
    "    # your implementation ends above\n",
    "\n",
    "print(X_train.shape)\n",
    "print(y_train.shape)\n",
    "print(X_test.shape)\n",
    "print(y_test.shape)\n"
   ]
  },
  {
   "cell_type": "code",
   "execution_count": 4,
   "id": "68cf76fe",
   "metadata": {},
   "outputs": [
    {
     "name": "stdout",
     "output_type": "stream",
     "text": [
      "[0.0452 0.9548]\n"
     ]
    }
   ],
   "source": [
    "# STEP 4\n",
    "# assuming that there are K classes\n",
    "# should return a numpy array with shape (K,)\n",
    "\n",
    "def estimate_prior_probabilities(y):\n",
    "    # your implementation starts below\n",
    "    K = np.unique(y)\n",
    "    class_priors = []\n",
    "    for classes in K:\n",
    "        class_count = (y == classes).sum()\n",
    "        class_priors = np.append(class_priors, class_count/len(y))\n",
    "    \n",
    "    # your implementation ends above\n",
    "    return(class_priors)\n",
    "\n",
    "class_priors = estimate_prior_probabilities(y_train)\n",
    "print(class_priors)"
   ]
  },
  {
   "cell_type": "code",
   "execution_count": 5,
   "id": "fae3ac97",
   "metadata": {},
   "outputs": [],
   "source": [
    "# STEP 5\n",
    "# assuming that there are K classes and D features\n",
    "# should return four numpy arrays with shape (K, D)"
   ]
  },
  {
   "cell_type": "code",
   "execution_count": 7,
   "id": "53864388",
   "metadata": {},
   "outputs": [
    {
     "name": "stdout",
     "output_type": "stream",
     "text": [
      "[[0.32345133 0.64424779 0.09424779 0.56681416 0.68938053 0.0800885\n",
      "  0.16371681]\n",
      " [0.25450356 0.2728739  0.30117302 0.19522413 0.25473398 0.23990364\n",
      "  0.26292417]]\n",
      "[[0.37433628 0.12123894 0.02964602 0.03230088 0.08053097 0.05221239\n",
      "  0.16725664]\n",
      " [0.21979472 0.2340176  0.06514453 0.20605362 0.21214914 0.24767491\n",
      "  0.21723921]]\n",
      "[[0.18716814 0.1199115  0.81814159 0.37477876 0.11371681 0.79513274\n",
      "  0.19690265]\n",
      " [0.24805195 0.24434437 0.2676791  0.33636364 0.22869711 0.23104315\n",
      "  0.23016339]]\n",
      "[[0.11504425 0.11460177 0.0579646  0.02610619 0.11637168 0.07256637\n",
      "  0.47212389]\n",
      " [0.27764977 0.24876414 0.36600335 0.26235861 0.30441977 0.2813783\n",
      "  0.28967323]]\n"
     ]
    }
   ],
   "source": [
    "def estimate_nucleotide_probabilities(X, y):\n",
    "    # your implementation starts below\n",
    "    class_counts = []\n",
    "    K = np.unique(y)\n",
    "    D = X.shape[1]\n",
    "    nucleotides_probabilities = [\"A\", \"C\", \"G\", \"T\"]\n",
    "    nucleotide_counts = np.zeros((len(K), D, len(nucleotides_probabilities)))\n",
    "    for i, classes in enumerate(K):\n",
    "        labels = y == classes\n",
    "        class_count = (y == classes).sum()\n",
    "        class_counts = np.append(class_counts, class_count)\n",
    "        for j in range(X.shape[1]):\n",
    "            column = X[labels, j]\n",
    "            nucleotide_counts[i, j, 0] = np.sum(column == 'A')\n",
    "            nucleotide_counts[i, j, 1] = np.sum(column == 'C')\n",
    "            nucleotide_counts[i, j, 2] = np.sum(column == 'G')\n",
    "            nucleotide_counts[i, j, 3] = np.sum(column == 'T')\n",
    "\n",
    "    pAcd = (nucleotide_counts[:, :, 0]) / (class_counts[:, np.newaxis])\n",
    "    pCcd = (nucleotide_counts[:, :, 1]) / (class_counts[:, np.newaxis])\n",
    "    pGcd = (nucleotide_counts[:, :, 2]) / (class_counts[:, np.newaxis])\n",
    "    pTcd = (nucleotide_counts[:, :, 3]) / (class_counts[:, np.newaxis])\n",
    "    # your implementation ends above    \n",
    "    return pAcd, pCcd, pGcd, pTcd\n",
    "\n",
    "pAcd, pCcd, pGcd, pTcd = estimate_nucleotide_probabilities(X_train, y_train)\n",
    "print(pAcd)\n",
    "print(pCcd)\n",
    "print(pGcd)\n",
    "print(pTcd)"
   ]
  },
  {
   "cell_type": "code",
   "execution_count": 8,
   "id": "86cae13f",
   "metadata": {},
   "outputs": [],
   "source": [
    "# STEP 6\n",
    "# assuming that there are N data points and K classes\n",
    "# should return a numpy array with shape (N, K)"
   ]
  },
  {
   "cell_type": "code",
   "execution_count": 9,
   "id": "fedda106",
   "metadata": {},
   "outputs": [
    {
     "name": "stdout",
     "output_type": "stream",
     "text": [
      "[[-15.84302871  -9.3433522 ]\n",
      " [-16.73815388  -8.90270491]\n",
      " [-17.12201508  -8.87059123]\n",
      " ...\n",
      " [-12.64747986  -9.3077559 ]\n",
      " [-18.14584244  -9.54820083]\n",
      " [-14.67706629  -9.45002167]]\n",
      "[[-17.02244643  -9.95385128]\n",
      " [-13.10176993  -9.42908242]\n",
      " [-12.61507938  -9.54180473]\n",
      " ...\n",
      " [-12.86990369  -9.21875465]\n",
      " [-12.90250138  -9.38540918]\n",
      " [-16.43266951  -9.37467256]]\n"
     ]
    }
   ],
   "source": [
    "def calculate_score_values(X, pAcd, pCcd, pGcd, pTcd, class_priors):\n",
    "    # your implementation starts below\n",
    "    N = X.shape[0]\n",
    "    D = X.shape[1]\n",
    "    K = len(class_priors)\n",
    "    score_values = np.zeros((N, K))\n",
    "    \n",
    "    for n in range(N):\n",
    "        x = X[n]\n",
    "        for k in range(K):\n",
    "            score = np.log(class_priors[k])\n",
    "            for d in range(D):\n",
    "                score += np.log((pAcd[k][d])**(int(x[d] == 'A'))*(pCcd[k][d]**(int(x[d] == 'C')))*(pGcd[k][d]**(int(x[d] == 'G')))*(pTcd[k][d]**(int(x[d] == 'T'))))\n",
    "            score_values[n][k] = score\n",
    "    # your implementation ends above\n",
    "    return score_values\n",
    "\n",
    "scores_train = calculate_score_values(X_train, pAcd, pCcd, pGcd, pTcd, class_priors)\n",
    "print(scores_train)\n",
    "\n",
    "scores_test = calculate_score_values(X_test, pAcd, pCcd, pGcd, pTcd, class_priors)\n",
    "print(scores_test)"
   ]
  },
  {
   "cell_type": "code",
   "execution_count": 10,
   "id": "85b6436a",
   "metadata": {},
   "outputs": [],
   "source": [
    "# STEP 7\n",
    "# assuming that there are K classes\n",
    "# should return a numpy array with shape (K, K)"
   ]
  },
  {
   "cell_type": "code",
   "execution_count": 11,
   "id": "3301aa29",
   "metadata": {},
   "outputs": [
    {
     "name": "stdout",
     "output_type": "stream",
     "text": [
      "[[ 1066   484]\n",
      " [ 1194 47256]]\n",
      "[[  891   416]\n",
      " [ 1057 41561]]\n"
     ]
    }
   ],
   "source": [
    "def calculate_confusion_matrix(y_truth, scores):\n",
    "    # your implementation starts below\n",
    "    K = scores.shape[1]\n",
    "    confusion_matrix = np.zeros((K, K), dtype=int)\n",
    "    y_bar = np.argmax(scores, axis=1)\n",
    "    confusion_matrix[0,0] = np.sum((y_truth == 1) & (y_bar == 0))\n",
    "    confusion_matrix[0,1] = np.sum((y_truth == 2) & (y_bar == 0))\n",
    "    confusion_matrix[1,0] = np.sum((y_truth == 1) & (y_bar == 1))\n",
    "    confusion_matrix[1,1] = np.sum((y_truth == 2) & (y_bar == 1))\n",
    "    # your implementation ends above\n",
    "    return confusion_matrix \n",
    "\n",
    "confusion_train = calculate_confusion_matrix(y_train, scores_train)\n",
    "print(confusion_train)\n",
    "\n",
    "confusion_test = calculate_confusion_matrix(y_test, scores_test)\n",
    "print(confusion_test)"
   ]
  },
  {
   "cell_type": "code",
   "execution_count": null,
   "id": "453fad04",
   "metadata": {},
   "outputs": [],
   "source": []
  }
 ],
 "metadata": {
  "kernelspec": {
   "display_name": "Python 3",
   "language": "python",
   "name": "python3"
  },
  "language_info": {
   "codemirror_mode": {
    "name": "ipython",
    "version": 3
   },
   "file_extension": ".py",
   "mimetype": "text/x-python",
   "name": "python",
   "nbconvert_exporter": "python",
   "pygments_lexer": "ipython3",
   "version": "3.8.2"
  }
 },
 "nbformat": 4,
 "nbformat_minor": 5
}
